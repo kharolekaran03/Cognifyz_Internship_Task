{
 "cells": [
  {
   "cell_type": "markdown",
   "id": "7b86b62b-8b5d-4602-a48a-c698912c38ce",
   "metadata": {},
   "source": [
    "### Task: Cuisine Combination\n",
    "Identify the most common combinations of\n",
    "cuisines in the dataset.\n",
    "Determine if certain cuisine combinations\n",
    "tend to have higher ratings."
   ]
  },
  {
   "cell_type": "code",
   "execution_count": 2,
   "id": "df6f2d56-451b-46b6-bde5-906ed7f99c10",
   "metadata": {},
   "outputs": [],
   "source": [
    "import pandas as pd \n",
    "import matplotlib.pyplot as plt"
   ]
  },
  {
   "cell_type": "code",
   "execution_count": 3,
   "id": "aa67b9f8-be6c-4ddd-b6b1-0bb66b5d17c7",
   "metadata": {},
   "outputs": [],
   "source": [
    "df = pd.read_csv(\"Dataset .csv\")"
   ]
  },
  {
   "cell_type": "code",
   "execution_count": 6,
   "id": "a20d6d85-e6b6-421e-b340-7b81a2f00cea",
   "metadata": {},
   "outputs": [],
   "source": [
    "cuisines = df['Cuisines']\n",
    "aggregates_ratings = df['Aggregate rating']"
   ]
  },
  {
   "cell_type": "code",
   "execution_count": 11,
   "id": "029fbb75-d9f7-4876-bc65-614f34ceecc7",
   "metadata": {},
   "outputs": [],
   "source": [
    "cuisine_combination_counts = cuisines.value_counts()"
   ]
  },
  {
   "cell_type": "code",
   "execution_count": 13,
   "id": "fe0ba694-eba6-4978-8fbc-d85340665e98",
   "metadata": {},
   "outputs": [
    {
     "name": "stdout",
     "output_type": "stream",
     "text": [
      "Most common cuisine combinations:\n",
      "Cuisines\n",
      "North Indian                      936\n",
      "North Indian, Chinese             511\n",
      "Chinese                           354\n",
      "Fast Food                         354\n",
      "North Indian, Mughlai             334\n",
      "Cafe                              299\n",
      "Bakery                            218\n",
      "North Indian, Mughlai, Chinese    197\n",
      "Bakery, Desserts                  170\n",
      "Street Food                       149\n",
      "Name: count, dtype: int64\n"
     ]
    }
   ],
   "source": [
    "most_common_cuisine_combinations = cuisine_combination_counts.head(10)\n",
    "print('Most common cuisine combinations:')\n",
    "print(most_common_cuisine_combinations)"
   ]
  },
  {
   "cell_type": "code",
   "execution_count": 15,
   "id": "749641ba-a244-4c98-8592-aa2623726a57",
   "metadata": {},
   "outputs": [],
   "source": [
    "cuisine_combinations_avg_rating = df.groupby('Cuisines')['Aggregate rating'].mean()\n"
   ]
  },
  {
   "cell_type": "code",
   "execution_count": 16,
   "id": "d64ee6b1-41ea-47d7-b741-6fc965c3c087",
   "metadata": {},
   "outputs": [
    {
     "name": "stdout",
     "output_type": "stream",
     "text": [
      "\n",
      "Average rating for top 10 cuisine combinations:\n",
      "Cuisines\n",
      "American, BBQ, Sandwich         4.9\n",
      "American, Burger, Grill         4.9\n",
      "American, Caribbean, Seafood    4.9\n",
      "American, Coffee and Tea        4.9\n",
      "American, Sandwich, Tea         4.9\n",
      "BBQ, Breakfast, Southern        4.9\n",
      "Burger, Bar Food, Steak         4.9\n",
      "Continental, Indian             4.9\n",
      "European, Asian, Indian         4.9\n",
      "European, Contemporary          4.9\n",
      "Name: Aggregate rating, dtype: float64\n"
     ]
    }
   ],
   "source": [
    "top_10_avg_ratings = cuisine_combinations_avg_rating.nlargest(10)\n",
    "print('\\nAverage rating for top 10 cuisine combinations:')\n",
    "print(top_10_avg_ratings)"
   ]
  },
  {
   "cell_type": "code",
   "execution_count": null,
   "id": "e45befb7-6fe9-47d1-98b3-8eec4b83c85f",
   "metadata": {},
   "outputs": [],
   "source": []
  }
 ],
 "metadata": {
  "kernelspec": {
   "display_name": "Python 3 (ipykernel)",
   "language": "python",
   "name": "python3"
  },
  "language_info": {
   "codemirror_mode": {
    "name": "ipython",
    "version": 3
   },
   "file_extension": ".py",
   "mimetype": "text/x-python",
   "name": "python",
   "nbconvert_exporter": "python",
   "pygments_lexer": "ipython3",
   "version": "3.11.7"
  }
 },
 "nbformat": 4,
 "nbformat_minor": 5
}
